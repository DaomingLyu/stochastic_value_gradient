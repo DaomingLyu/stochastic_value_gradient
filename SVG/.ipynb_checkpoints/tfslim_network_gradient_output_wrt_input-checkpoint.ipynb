{
 "cells": [
  {
   "cell_type": "code",
   "execution_count": 1,
   "metadata": {
    "collapsed": true
   },
   "outputs": [],
   "source": [
    "import numpy as np\n",
    "import tensorflow as tf\n",
    "import tensorflow.contrib.slim as slim "
   ]
  },
  {
   "cell_type": "code",
   "execution_count": 2,
   "metadata": {
    "collapsed": false
   },
   "outputs": [],
   "source": [
    "inputs1 = tf.placeholder(shape=[None,16],dtype=tf.float32)\n",
    "net = slim.fully_connected(inputs1, 10, scope='fc1')\n",
    "net = slim.fully_connected(net, 4, scope='out')"
   ]
  },
  {
   "cell_type": "code",
   "execution_count": 3,
   "metadata": {
    "collapsed": true
   },
   "outputs": [],
   "source": [
    "var = slim.get_variables()"
   ]
  },
  {
   "cell_type": "code",
   "execution_count": 4,
   "metadata": {
    "collapsed": false
   },
   "outputs": [],
   "source": [
    "sess = tf.Session()\n",
    "init = tf.global_variables_initializer()\n",
    "sess.run(init)"
   ]
  },
  {
   "cell_type": "code",
   "execution_count": 5,
   "metadata": {
    "collapsed": false
   },
   "outputs": [],
   "source": [
    "# sess.run(var)"
   ]
  },
  {
   "cell_type": "code",
   "execution_count": 8,
   "metadata": {
    "collapsed": true
   },
   "outputs": [],
   "source": [
    "grad_out_inp = tf.gradients(net,inputs1)\n",
    "inp = np.random.random([10,16])"
   ]
  },
  {
   "cell_type": "code",
   "execution_count": 9,
   "metadata": {
    "collapsed": false
   },
   "outputs": [
    {
     "data": {
      "text/plain": [
       "array([ 1, 10, 16], dtype=int32)"
      ]
     },
     "execution_count": 9,
     "metadata": {},
     "output_type": "execute_result"
    }
   ],
   "source": [
    "sess.run(tf.shape(grad_out_inp), feed_dict={inputs1:inp})"
   ]
  },
  {
   "cell_type": "code",
   "execution_count": 13,
   "metadata": {
    "collapsed": false
   },
   "outputs": [],
   "source": [
    "trainable_variables = slim.get_variables('fc1')\n",
    "trainable_variables.extend(slim.get_variables('out'))"
   ]
  },
  {
   "cell_type": "code",
   "execution_count": 15,
   "metadata": {
    "collapsed": false
   },
   "outputs": [
    {
     "data": {
      "text/plain": [
       "[array([[ 0.04070926, -0.15636182, -0.38171315,  0.43119836, -0.32527116,\n",
       "          0.33374989, -0.02670544, -0.37820584,  0.32978123,  0.34310961],\n",
       "        [ 0.33561116,  0.08997828, -0.05320942, -0.38227484,  0.25098282,\n",
       "          0.25949222, -0.18507102,  0.44199336,  0.26118708, -0.27155322],\n",
       "        [-0.43071076, -0.43096355,  0.26199543, -0.40148973, -0.00926042,\n",
       "          0.12414426,  0.44905525,  0.39145774,  0.44860214,  0.3579995 ],\n",
       "        [ 0.17434072, -0.1356706 ,  0.3288824 ,  0.31037939,  0.37748498,\n",
       "          0.31908011,  0.45852411, -0.04262412,  0.3319279 , -0.43648574],\n",
       "        [-0.14208454,  0.2659474 ,  0.38918549,  0.45208335,  0.16650164,\n",
       "          0.33998734, -0.01203829,  0.17548156,  0.45169634, -0.00599062],\n",
       "        [ 0.22856855,  0.07161838, -0.19799477,  0.32506841, -0.22175717,\n",
       "         -0.18956229,  0.31674492, -0.147378  , -0.1094234 ,  0.19743621],\n",
       "        [ 0.38113248, -0.43529791,  0.16205812, -0.00128117, -0.03370008,\n",
       "          0.06022102, -0.25033915,  0.10034645, -0.18371758, -0.07631087],\n",
       "        [-0.33196902, -0.12789854, -0.37492859, -0.1409722 ,  0.02933812,\n",
       "          0.18168569, -0.44559851,  0.20992565,  0.02927119, -0.0600152 ],\n",
       "        [-0.07004881,  0.15036309,  0.08023649,  0.27466023, -0.22775343,\n",
       "         -0.36877728, -0.41437477, -0.39083761,  0.42984951,  0.02160978],\n",
       "        [-0.10552311, -0.06472936,  0.3584463 , -0.29660824, -0.05194202,\n",
       "         -0.10003036, -0.42642784, -0.12073475,  0.01021174, -0.25156853],\n",
       "        [-0.1005761 ,  0.33560944,  0.07904649,  0.29509878,  0.22158563,\n",
       "          0.01084486,  0.2284776 , -0.31854224, -0.47190449, -0.40012726],\n",
       "        [-0.38088828, -0.03722274,  0.13230783, -0.00934219, -0.08749351,\n",
       "          0.25755924, -0.40417963,  0.12519431, -0.47197926,  0.27524734],\n",
       "        [ 0.27202964, -0.07280654,  0.41261232,  0.2879017 , -0.06458688,\n",
       "         -0.44864565, -0.4014194 ,  0.25621194,  0.1953153 ,  0.11146337],\n",
       "        [ 0.07356483,  0.42521793, -0.45259085, -0.33218539,  0.3005715 ,\n",
       "         -0.39533189,  0.19678986,  0.15083736,  0.00888053, -0.26704979],\n",
       "        [ 0.2692675 ,  0.02105725,  0.11172974, -0.45734429,  0.3084113 ,\n",
       "          0.06503856, -0.01520959, -0.09956032,  0.05180502, -0.03112653],\n",
       "        [-0.22132355,  0.35792065, -0.4720307 ,  0.30932617,  0.19978034,\n",
       "         -0.25230151, -0.44270372, -0.03309545, -0.26924837, -0.01567596]], dtype=float32),\n",
       " array([ 0.,  0.,  0.,  0.,  0.,  0.,  0.,  0.,  0.,  0.], dtype=float32),\n",
       " array([[-0.42683494, -0.03752452,  0.21212053, -0.51106453],\n",
       "        [-0.04591918, -0.56697714,  0.30483222, -0.19568339],\n",
       "        [ 0.04250193, -0.32339686,  0.15999252, -0.07976067],\n",
       "        [-0.26114029, -0.1354056 ,  0.46069217, -0.13922089],\n",
       "        [ 0.53723586,  0.35938692,  0.13869441,  0.27693576],\n",
       "        [-0.62326658, -0.60571259,  0.30515981,  0.45953643],\n",
       "        [-0.23937315, -0.53288662,  0.24376696, -0.11245787],\n",
       "        [ 0.63090086, -0.48089895, -0.08969915, -0.26523742],\n",
       "        [ 0.41805804,  0.1908102 , -0.49193937, -0.33188316],\n",
       "        [ 0.11880243, -0.14856207,  0.3066268 ,  0.60139799]], dtype=float32),\n",
       " array([ 0.,  0.,  0.,  0.], dtype=float32)]"
      ]
     },
     "execution_count": 15,
     "metadata": {},
     "output_type": "execute_result"
    }
   ],
   "source": [
    "dummy_targets = np.random.random([10,4])"
   ]
  }
 ],
 "metadata": {
  "anaconda-cloud": {},
  "kernelspec": {
   "display_name": "Python [Root]",
   "language": "python",
   "name": "Python [Root]"
  },
  "language_info": {
   "codemirror_mode": {
    "name": "ipython",
    "version": 2
   },
   "file_extension": ".py",
   "mimetype": "text/x-python",
   "name": "python",
   "nbconvert_exporter": "python",
   "pygments_lexer": "ipython2",
   "version": "2.7.12"
  }
 },
 "nbformat": 4,
 "nbformat_minor": 0
}
