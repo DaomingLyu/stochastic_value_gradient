{
 "cells": [
  {
   "cell_type": "code",
   "execution_count": 1,
   "metadata": {
    "collapsed": true
   },
   "outputs": [],
   "source": [
    "import tensorflow as tf\n",
    "import numpy as np"
   ]
  },
  {
   "cell_type": "code",
   "execution_count": 2,
   "metadata": {
    "collapsed": false
   },
   "outputs": [],
   "source": [
    "inputs1 = tf.placeholder(shape=[1,16],dtype=tf.float32)\n",
    "W = tf.Variable(tf.random_uniform([16,4],0,0.01))\n",
    "Qout = tf.matmul(inputs1,W)"
   ]
  },
  {
   "cell_type": "code",
   "execution_count": 3,
   "metadata": {
    "collapsed": true
   },
   "outputs": [],
   "source": [
    "grad_Qout_inputs1 = tf.gradients(Qout, inputs1)"
   ]
  },
  {
   "cell_type": "code",
   "execution_count": 6,
   "metadata": {
    "collapsed": false
   },
   "outputs": [],
   "source": [
    "init = tf.global_variables_initializer()"
   ]
  },
  {
   "cell_type": "code",
   "execution_count": 7,
   "metadata": {
    "collapsed": true
   },
   "outputs": [],
   "source": [
    "sess = tf.Session()"
   ]
  },
  {
   "cell_type": "code",
   "execution_count": 8,
   "metadata": {
    "collapsed": true
   },
   "outputs": [],
   "source": [
    "sess.run(init)"
   ]
  },
  {
   "cell_type": "code",
   "execution_count": 9,
   "metadata": {
    "collapsed": false
   },
   "outputs": [
    {
     "name": "stdout",
     "output_type": "stream",
     "text": [
      "[[ 0.87524002  0.0094723   0.8894848   0.14934706  0.80394238  0.657297\n",
      "   0.80094088  0.24082964  0.52653745  0.63124134  0.07451427  0.12918606\n",
      "   0.08579958  0.54836739  0.25862092  0.27553645]]\n"
     ]
    }
   ],
   "source": [
    "inp = np.random.random([1,16])\n",
    "print inp"
   ]
  },
  {
   "cell_type": "code",
   "execution_count": 10,
   "metadata": {
    "collapsed": false
   },
   "outputs": [],
   "source": [
    "Qout_val = sess.run([Qout], feed_dict={inputs1:inp})"
   ]
  },
  {
   "cell_type": "code",
   "execution_count": 11,
   "metadata": {
    "collapsed": false
   },
   "outputs": [
    {
     "data": {
      "text/plain": [
       "[array([[ 0.03430185,  0.03604505,  0.03762769,  0.03974636]], dtype=float32)]"
      ]
     },
     "execution_count": 11,
     "metadata": {},
     "output_type": "execute_result"
    }
   ],
   "source": [
    "Qout_val"
   ]
  },
  {
   "cell_type": "code",
   "execution_count": 12,
   "metadata": {
    "collapsed": false
   },
   "outputs": [],
   "source": [
    "grad_Qout_inputs1_val = sess.run([grad_Qout_inputs1], feed_dict={inputs1:inp})\n",
    "# optimizer = tf.train.GradientDescentOptimizer(learning_rate = 0.01)\n",
    "# grad_Qout_W = optimizer.compute_gradients(Qout,[W])"
   ]
  },
  {
   "cell_type": "code",
   "execution_count": 43,
   "metadata": {
    "collapsed": false
   },
   "outputs": [
    {
     "data": {
      "text/plain": [
       "array([[ 0.0208045 ,  0.01549817,  0.02198123,  0.02068668,  0.01678517,\n",
       "         0.01889607,  0.02400613,  0.0355617 ,  0.02379965,  0.02304302,\n",
       "         0.0130398 ,  0.0254944 ,  0.01931266,  0.02321273,  0.01793681,\n",
       "         0.00961783]], dtype=float32)"
      ]
     },
     "execution_count": 43,
     "metadata": {},
     "output_type": "execute_result"
    }
   ],
   "source": [
    "grad_Qout_inputs1_val[0][0]"
   ]
  },
  {
   "cell_type": "code",
   "execution_count": 32,
   "metadata": {
    "collapsed": false
   },
   "outputs": [
    {
     "data": {
      "text/plain": [
       "array([[ 0.00238261,  0.00420109,  0.00555477,  0.00866603],\n",
       "       [ 0.00318701,  0.00235641,  0.00752537,  0.00242939],\n",
       "       [ 0.00652695,  0.00506918,  0.00922542,  0.00115968],\n",
       "       [ 0.00650745,  0.00124516,  0.005386  ,  0.00754807],\n",
       "       [ 0.00657544,  0.00107916,  0.00297415,  0.00615643],\n",
       "       [ 0.0064905 ,  0.0015887 ,  0.0032183 ,  0.00759857],\n",
       "       [ 0.0061574 ,  0.00808443,  0.00226643,  0.00749787],\n",
       "       [ 0.00998877,  0.00780671,  0.00893512,  0.0088311 ],\n",
       "       [ 0.00220606,  0.00805287,  0.00534034,  0.00820039],\n",
       "       [ 0.00326426,  0.00881891,  0.00613262,  0.00482722],\n",
       "       [ 0.00279902,  0.00043439,  0.00836182,  0.00144457],\n",
       "       [ 0.00938173,  0.00771476,  0.00331546,  0.00508245],\n",
       "       [ 0.00999137,  0.00688531,  0.00200177,  0.00043421],\n",
       "       [ 0.00505136,  0.00547555,  0.00727855,  0.00540726],\n",
       "       [ 0.00069669,  0.00843407,  0.0071282 ,  0.00167785],\n",
       "       [ 0.00025025,  0.00280608,  0.0053345 ,  0.00122699]], dtype=float32)"
      ]
     },
     "execution_count": 32,
     "metadata": {},
     "output_type": "execute_result"
    }
   ],
   "source": [
    "sess.run(W)"
   ]
  },
  {
   "cell_type": "code",
   "execution_count": 34,
   "metadata": {
    "collapsed": false
   },
   "outputs": [
    {
     "data": {
      "text/plain": [
       "array([16,  4], dtype=int32)"
      ]
     },
     "execution_count": 34,
     "metadata": {},
     "output_type": "execute_result"
    }
   ],
   "source": [
    "sess.run(tf.shape(W))"
   ]
  },
  {
   "cell_type": "code",
   "execution_count": 38,
   "metadata": {
    "collapsed": false
   },
   "outputs": [
    {
     "data": {
      "text/plain": [
       "array([ 0.0208045 ,  0.01549817,  0.02198123,  0.02068668,  0.01678517,\n",
       "        0.01889607,  0.02400613,  0.0355617 ,  0.02379965,  0.02304302,\n",
       "        0.0130398 ,  0.0254944 ,  0.01931266,  0.02321273,  0.01793681,\n",
       "        0.00961783], dtype=float32)"
      ]
     },
     "execution_count": 38,
     "metadata": {},
     "output_type": "execute_result"
    }
   ],
   "source": [
    "sess.run(tf.reduce_sum(W,1))"
   ]
  },
  {
   "cell_type": "code",
   "execution_count": 47,
   "metadata": {
    "collapsed": false
   },
   "outputs": [
    {
     "data": {
      "text/plain": [
       "4"
      ]
     },
     "execution_count": 47,
     "metadata": {},
     "output_type": "execute_result"
    }
   ],
   "source": [
    "sess.run(tf.shape(Qout)[1])"
   ]
  },
  {
   "cell_type": "code",
   "execution_count": 51,
   "metadata": {
    "collapsed": false
   },
   "outputs": [],
   "source": [
    "jacobian = tf.stack([tf.gradients(Qout[0][i], inputs1)[0][0] for i in range(sess.run(tf.shape(Qout)[1]))])"
   ]
  },
  {
   "cell_type": "code",
   "execution_count": 59,
   "metadata": {
    "collapsed": true
   },
   "outputs": [],
   "source": [
    "j1,j2 = jacobian[:,:5], jacobian[:,5:]"
   ]
  },
  {
   "cell_type": "code",
   "execution_count": 61,
   "metadata": {
    "collapsed": false
   },
   "outputs": [
    {
     "data": {
      "text/plain": [
       "array([ 4, 11], dtype=int32)"
      ]
     },
     "execution_count": 61,
     "metadata": {},
     "output_type": "execute_result"
    }
   ],
   "source": [
    "sess.run(tf.shape(j2))"
   ]
  },
  {
   "cell_type": "code",
   "execution_count": 54,
   "metadata": {
    "collapsed": false
   },
   "outputs": [
    {
     "data": {
      "text/plain": [
       "array([[ 0.00238261,  0.00318701,  0.00652695,  0.00650745,  0.00657544,\n",
       "         0.0064905 ,  0.0061574 ,  0.00998877,  0.00220606,  0.00326426,\n",
       "         0.00279902,  0.00938173,  0.00999137,  0.00505136,  0.00069669,\n",
       "         0.00025025],\n",
       "       [ 0.00420109,  0.00235641,  0.00506918,  0.00124516,  0.00107916,\n",
       "         0.0015887 ,  0.00808443,  0.00780671,  0.00805287,  0.00881891,\n",
       "         0.00043439,  0.00771476,  0.00688531,  0.00547555,  0.00843407,\n",
       "         0.00280608],\n",
       "       [ 0.00555477,  0.00752537,  0.00922542,  0.005386  ,  0.00297415,\n",
       "         0.0032183 ,  0.00226643,  0.00893512,  0.00534034,  0.00613262,\n",
       "         0.00836182,  0.00331546,  0.00200177,  0.00727855,  0.0071282 ,\n",
       "         0.0053345 ],\n",
       "       [ 0.00866603,  0.00242939,  0.00115968,  0.00754807,  0.00615643,\n",
       "         0.00759857,  0.00749787,  0.0088311 ,  0.00820039,  0.00482722,\n",
       "         0.00144457,  0.00508245,  0.00043421,  0.00540726,  0.00167785,\n",
       "         0.00122699]], dtype=float32)"
      ]
     },
     "execution_count": 54,
     "metadata": {},
     "output_type": "execute_result"
    }
   ],
   "source": [
    "sess.run(jacobian, feed_dict={inputs1:inp})"
   ]
  },
  {
   "cell_type": "code",
   "execution_count": 57,
   "metadata": {
    "collapsed": false
   },
   "outputs": [
    {
     "data": {
      "text/plain": [
       "array([[ 0.00238261,  0.00420109,  0.00555477,  0.00866603],\n",
       "       [ 0.00318701,  0.00235641,  0.00752537,  0.00242939],\n",
       "       [ 0.00652695,  0.00506918,  0.00922542,  0.00115968],\n",
       "       [ 0.00650745,  0.00124516,  0.005386  ,  0.00754807],\n",
       "       [ 0.00657544,  0.00107916,  0.00297415,  0.00615643],\n",
       "       [ 0.0064905 ,  0.0015887 ,  0.0032183 ,  0.00759857],\n",
       "       [ 0.0061574 ,  0.00808443,  0.00226643,  0.00749787],\n",
       "       [ 0.00998877,  0.00780671,  0.00893512,  0.0088311 ],\n",
       "       [ 0.00220606,  0.00805287,  0.00534034,  0.00820039],\n",
       "       [ 0.00326426,  0.00881891,  0.00613262,  0.00482722],\n",
       "       [ 0.00279902,  0.00043439,  0.00836182,  0.00144457],\n",
       "       [ 0.00938173,  0.00771476,  0.00331546,  0.00508245],\n",
       "       [ 0.00999137,  0.00688531,  0.00200177,  0.00043421],\n",
       "       [ 0.00505136,  0.00547555,  0.00727855,  0.00540726],\n",
       "       [ 0.00069669,  0.00843407,  0.0071282 ,  0.00167785],\n",
       "       [ 0.00025025,  0.00280608,  0.0053345 ,  0.00122699]], dtype=float32)"
      ]
     },
     "execution_count": 57,
     "metadata": {},
     "output_type": "execute_result"
    }
   ],
   "source": [
    "sess.run(tf.transpose(jacobian), feed_dict={inputs1:inp})"
   ]
  },
  {
   "cell_type": "code",
   "execution_count": null,
   "metadata": {
    "collapsed": false
   },
   "outputs": [],
   "source": [
    "# define symbolic variables\n",
    "x = tf.placeholder(\"float\") \n",
    "y = tf.placeholder(\"float\")\n",
    "\n",
    "# define a function R=R(x,y)\n",
    "R = 0.127-(x*0.194/(y+0.194))\n",
    "\n",
    "# The derivative of R with respect to y\n",
    "Rdy = tf.gradients(R, y); \n",
    "\n",
    "# Launch a session for the default graph to comput dR/dy at (x,y)=(0.362, 0.556)\n",
    "sess = tf.Session()\n",
    "result = sess.run(Rdy, {x:0.362,y:0.556})\n",
    "print result\n",
    "#[0.12484978]"
   ]
  },
  {
   "cell_type": "code",
   "execution_count": null,
   "metadata": {
    "collapsed": true
   },
   "outputs": [],
   "source": []
  }
 ],
 "metadata": {
  "anaconda-cloud": {},
  "kernelspec": {
   "display_name": "Python [Root]",
   "language": "python",
   "name": "Python [Root]"
  },
  "language_info": {
   "codemirror_mode": {
    "name": "ipython",
    "version": 2
   },
   "file_extension": ".py",
   "mimetype": "text/x-python",
   "name": "python",
   "nbconvert_exporter": "python",
   "pygments_lexer": "ipython2",
   "version": "2.7.12"
  }
 },
 "nbformat": 4,
 "nbformat_minor": 0
}
